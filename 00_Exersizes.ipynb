{
  "nbformat": 4,
  "nbformat_minor": 0,
  "metadata": {
    "colab": {
      "provenance": [],
      "gpuType": "T4",
      "authorship_tag": "ABX9TyPxXCuH943CsaLtNFjDCE+j",
      "include_colab_link": true
    },
    "kernelspec": {
      "name": "python3",
      "display_name": "Python 3"
    },
    "language_info": {
      "name": "python"
    },
    "accelerator": "GPU"
  },
  "cells": [
    {
      "cell_type": "markdown",
      "metadata": {
        "id": "view-in-github",
        "colab_type": "text"
      },
      "source": [
        "<a href=\"https://colab.research.google.com/github/ZambianZebra/pytorch_tutorial/blob/main/00_Exersizes.ipynb\" target=\"_parent\"><img src=\"https://colab.research.google.com/assets/colab-badge.svg\" alt=\"Open In Colab\"/></a>"
      ]
    },
    {
      "cell_type": "code",
      "execution_count": 1,
      "metadata": {
        "colab": {
          "base_uri": "https://localhost:8080/"
        },
        "id": "uL1Ez2MS0r1C",
        "outputId": "a48f53eb-b5d7-40af-a88a-ca273c7bcc1a"
      },
      "outputs": [
        {
          "output_type": "execute_result",
          "data": {
            "text/plain": [
              "tensor([[0.7214, 0.5760, 0.5702, 0.9525, 0.1348, 0.6708, 0.1280],\n",
              "        [0.8535, 0.0883, 0.0019, 0.3330, 0.7775, 0.4844, 0.2821],\n",
              "        [0.5333, 0.6739, 0.4613, 0.5130, 0.5101, 0.7408, 0.0904],\n",
              "        [0.6281, 0.2486, 0.6641, 0.7193, 0.1299, 0.5418, 0.7742],\n",
              "        [0.6486, 0.8450, 0.0631, 0.2152, 0.9483, 0.2160, 0.4926],\n",
              "        [0.4118, 0.5021, 0.4563, 0.1698, 0.0927, 0.2340, 0.7793],\n",
              "        [0.5549, 0.9139, 0.6552, 0.5219, 0.9591, 0.1945, 0.8203]])"
            ]
          },
          "metadata": {},
          "execution_count": 1
        }
      ],
      "source": [
        "import torch\n",
        "random = torch.rand(7,7)\n",
        "random"
      ]
    },
    {
      "cell_type": "code",
      "source": [
        "random2 = torch.rand(1,7)\n",
        "random2"
      ],
      "metadata": {
        "id": "kx9QLeEz09Qm",
        "colab": {
          "base_uri": "https://localhost:8080/"
        },
        "outputId": "5e508ea7-e1aa-40cf-cd63-e22e6c020980"
      },
      "execution_count": 2,
      "outputs": [
        {
          "output_type": "execute_result",
          "data": {
            "text/plain": [
              "tensor([[0.4930, 0.4325, 0.8153, 0.4478, 0.9049, 0.4797, 0.4282]])"
            ]
          },
          "metadata": {},
          "execution_count": 2
        }
      ]
    },
    {
      "cell_type": "code",
      "source": [
        "torch.mm(random,random2.T)"
      ],
      "metadata": {
        "colab": {
          "base_uri": "https://localhost:8080/"
        },
        "id": "3wYqk3lmVioM",
        "outputId": "9a7f3b6d-09f7-406e-f527-8be8dea53f7a"
      },
      "execution_count": 3,
      "outputs": [
        {
          "output_type": "execute_result",
          "data": {
            "text/plain": [
              "tensor([[1.9947],\n",
              "        [1.6664],\n",
              "        [2.0159],\n",
              "        [1.9896],\n",
              "        [2.0057],\n",
              "        [1.3981],\n",
              "        [2.7491]])"
            ]
          },
          "metadata": {},
          "execution_count": 3
        }
      ]
    },
    {
      "cell_type": "code",
      "source": [
        "torch.manual_seed(0)\n",
        "\n",
        "torch.matmul(torch.rand(7,7),torch.rand(1,7).T)"
      ],
      "metadata": {
        "colab": {
          "base_uri": "https://localhost:8080/"
        },
        "id": "9Pl1DF3wVt6r",
        "outputId": "a089386a-ca4b-4be1-a059-024ec73e8663"
      },
      "execution_count": 4,
      "outputs": [
        {
          "output_type": "execute_result",
          "data": {
            "text/plain": [
              "tensor([[1.8542],\n",
              "        [1.9611],\n",
              "        [2.2884],\n",
              "        [3.0481],\n",
              "        [1.7067],\n",
              "        [2.5290],\n",
              "        [1.7989]])"
            ]
          },
          "metadata": {},
          "execution_count": 4
        }
      ]
    },
    {
      "cell_type": "code",
      "source": [
        "torch.cuda.manual_seed(1234)"
      ],
      "metadata": {
        "id": "q7K76PVUJeZW"
      },
      "execution_count": 5,
      "outputs": []
    },
    {
      "cell_type": "code",
      "source": [
        "torch.manual_seed(1234)\n",
        "y = torch.rand(2,3)\n",
        "torch.manual_seed(1234)\n",
        "x = torch.rand(2,3)\n",
        "x.to('cuda')\n",
        "y.to('cuda')"
      ],
      "metadata": {
        "colab": {
          "base_uri": "https://localhost:8080/"
        },
        "id": "edZXQcYVUIQO",
        "outputId": "f761cb5e-55dc-4b0c-c593-f781acd87460"
      },
      "execution_count": 7,
      "outputs": [
        {
          "output_type": "execute_result",
          "data": {
            "text/plain": [
              "tensor([[0.0290, 0.4019, 0.2598],\n",
              "        [0.3666, 0.0583, 0.7006]], device='cuda:0')"
            ]
          },
          "metadata": {},
          "execution_count": 7
        }
      ]
    },
    {
      "cell_type": "code",
      "source": [
        "z = torch.matmul(x,y.T)\n",
        "z"
      ],
      "metadata": {
        "colab": {
          "base_uri": "https://localhost:8080/"
        },
        "id": "UopoKT7wUecy",
        "outputId": "38a3fe96-384d-4f0a-9e45-a176ac4e52f6"
      },
      "execution_count": 9,
      "outputs": [
        {
          "output_type": "execute_result",
          "data": {
            "text/plain": [
              "tensor([[0.2299, 0.2161],\n",
              "        [0.2161, 0.6287]])"
            ]
          },
          "metadata": {},
          "execution_count": 9
        }
      ]
    },
    {
      "cell_type": "code",
      "source": [
        "z.min()"
      ],
      "metadata": {
        "colab": {
          "base_uri": "https://localhost:8080/"
        },
        "id": "NeDas2kgUrsz",
        "outputId": "22575037-829d-4e5e-8a4d-578770768242"
      },
      "execution_count": 10,
      "outputs": [
        {
          "output_type": "execute_result",
          "data": {
            "text/plain": [
              "tensor(0.2161)"
            ]
          },
          "metadata": {},
          "execution_count": 10
        }
      ]
    },
    {
      "cell_type": "code",
      "source": [
        "z.max()"
      ],
      "metadata": {
        "colab": {
          "base_uri": "https://localhost:8080/"
        },
        "id": "9FgktnqXUzRl",
        "outputId": "9e001071-353c-4eba-d79f-d0353d95bd40"
      },
      "execution_count": 11,
      "outputs": [
        {
          "output_type": "execute_result",
          "data": {
            "text/plain": [
              "tensor(0.6287)"
            ]
          },
          "metadata": {},
          "execution_count": 11
        }
      ]
    },
    {
      "cell_type": "code",
      "source": [
        "z.argmax()"
      ],
      "metadata": {
        "colab": {
          "base_uri": "https://localhost:8080/"
        },
        "id": "JzVi1r6YU302",
        "outputId": "6fa828c0-04e0-4604-e345-3389ff6cf8e2"
      },
      "execution_count": 12,
      "outputs": [
        {
          "output_type": "execute_result",
          "data": {
            "text/plain": [
              "tensor(3)"
            ]
          },
          "metadata": {},
          "execution_count": 12
        }
      ]
    },
    {
      "cell_type": "code",
      "source": [
        "z.argmin()"
      ],
      "metadata": {
        "colab": {
          "base_uri": "https://localhost:8080/"
        },
        "id": "6h5BzZnqU5pq",
        "outputId": "4c4762ec-f96d-4ad6-ec26-bf3210e0bc0a"
      },
      "execution_count": 13,
      "outputs": [
        {
          "output_type": "execute_result",
          "data": {
            "text/plain": [
              "tensor(1)"
            ]
          },
          "metadata": {},
          "execution_count": 13
        }
      ]
    },
    {
      "cell_type": "code",
      "source": [
        "torch.manual_seed(7)\n",
        "v = torch.rand(1,1,1,10)\n",
        "v, v.shape"
      ],
      "metadata": {
        "colab": {
          "base_uri": "https://localhost:8080/"
        },
        "id": "vM024S3WU-2r",
        "outputId": "4299b3b8-d6e9-4ede-dbcc-1508479659b1"
      },
      "execution_count": 14,
      "outputs": [
        {
          "output_type": "execute_result",
          "data": {
            "text/plain": [
              "(tensor([[[[0.5349, 0.1988, 0.6592, 0.6569, 0.2328, 0.4251, 0.2071, 0.6297,\n",
              "            0.3653, 0.8513]]]]),\n",
              " torch.Size([1, 1, 1, 10]))"
            ]
          },
          "metadata": {},
          "execution_count": 14
        }
      ]
    },
    {
      "cell_type": "code",
      "source": [
        "v_new = v.squeeze()\n",
        "v_new, v_new.shape"
      ],
      "metadata": {
        "colab": {
          "base_uri": "https://localhost:8080/"
        },
        "id": "VUyomPB1VeES",
        "outputId": "859c5ab9-7af5-4476-c25e-6b2427301781"
      },
      "execution_count": 16,
      "outputs": [
        {
          "output_type": "execute_result",
          "data": {
            "text/plain": [
              "(tensor([0.5349, 0.1988, 0.6592, 0.6569, 0.2328, 0.4251, 0.2071, 0.6297, 0.3653,\n",
              "         0.8513]),\n",
              " torch.Size([10]))"
            ]
          },
          "metadata": {},
          "execution_count": 16
        }
      ]
    },
    {
      "cell_type": "code",
      "source": [],
      "metadata": {
        "id": "H0Deorn_Vpac"
      },
      "execution_count": null,
      "outputs": []
    }
  ]
}