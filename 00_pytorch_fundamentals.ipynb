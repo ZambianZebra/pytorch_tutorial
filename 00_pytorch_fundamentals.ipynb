{
  "nbformat": 4,
  "nbformat_minor": 0,
  "metadata": {
    "colab": {
      "provenance": [],
      "collapsed_sections": [
        "2QOKSCOolQDr",
        "L0Z9o7OArZuU",
        "emDatW05wDie",
        "_2azihBO1TIP",
        "KHYcOZvq5Jw_",
        "R7PuFsi8G25n",
        "Qgj3w_TNKhgI",
        "P5-Ksl8TTEOX",
        "8L0SptjfXClP",
        "vMt7uNjaZKPr",
        "z5trBfDAZvcp",
        "_s-vhZSbnGio"
      ],
      "gpuType": "T4",
      "authorship_tag": "ABX9TyMNkqugRGHPGFjqep7wDBFi",
      "include_colab_link": true
    },
    "kernelspec": {
      "name": "python3",
      "display_name": "Python 3"
    },
    "language_info": {
      "name": "python"
    },
    "accelerator": "GPU"
  },
  "cells": [
    {
      "cell_type": "markdown",
      "metadata": {
        "id": "view-in-github",
        "colab_type": "text"
      },
      "source": [
        "<a href=\"https://colab.research.google.com/github/ZambianZebra/pytorch_tutorial/blob/main/00_pytorch_fundamentals.ipynb\" target=\"_parent\"><img src=\"https://colab.research.google.com/assets/colab-badge.svg\" alt=\"Open In Colab\"/></a>"
      ]
    },
    {
      "cell_type": "code",
      "execution_count": 2,
      "metadata": {
        "colab": {
          "base_uri": "https://localhost:8080/"
        },
        "id": "kaBEDIE11wOK",
        "outputId": "ad3a07ff-ee62-4d7d-d089-e9ccf7dbf397"
      },
      "outputs": [
        {
          "output_type": "stream",
          "name": "stdout",
          "text": [
            "hello this is a test!\n"
          ]
        }
      ],
      "source": [
        "print(\"hello this is a test!\")"
      ]
    },
    {
      "cell_type": "code",
      "source": [
        "import torch\n",
        "print(torch.__version__)"
      ],
      "metadata": {
        "colab": {
          "base_uri": "https://localhost:8080/"
        },
        "id": "9yE4BWNZ2NXe",
        "outputId": "0ad46466-2e2e-4589-cf11-f12a4c2f9cc7"
      },
      "execution_count": 3,
      "outputs": [
        {
          "output_type": "stream",
          "name": "stdout",
          "text": [
            "2.4.1+cu121\n"
          ]
        }
      ]
    },
    {
      "cell_type": "markdown",
      "source": [
        " ### Tensors\n"
      ],
      "metadata": {
        "id": "2QOKSCOolQDr"
      }
    },
    {
      "cell_type": "code",
      "source": [
        "#scalar\n",
        "scalar = torch.tensor(7)\n",
        "scalar"
      ],
      "metadata": {
        "id": "v3mHQuISlUn3",
        "colab": {
          "base_uri": "https://localhost:8080/"
        },
        "outputId": "117f79a0-6507-4ca1-80aa-03881a989dfc"
      },
      "execution_count": 4,
      "outputs": [
        {
          "output_type": "execute_result",
          "data": {
            "text/plain": [
              "tensor(7)"
            ]
          },
          "metadata": {},
          "execution_count": 4
        }
      ]
    },
    {
      "cell_type": "code",
      "source": [
        "scalar.ndim"
      ],
      "metadata": {
        "id": "yxH2Vp49l9nw",
        "colab": {
          "base_uri": "https://localhost:8080/"
        },
        "outputId": "0d088ec6-b394-40a0-c6b4-b51638e18522"
      },
      "execution_count": 5,
      "outputs": [
        {
          "output_type": "execute_result",
          "data": {
            "text/plain": [
              "0"
            ]
          },
          "metadata": {},
          "execution_count": 5
        }
      ]
    },
    {
      "cell_type": "code",
      "source": [
        "scalar.item()"
      ],
      "metadata": {
        "colab": {
          "base_uri": "https://localhost:8080/"
        },
        "id": "T9gUx45BnFw9",
        "outputId": "e7906618-19d2-4bb4-d7fa-fe75120e6df6"
      },
      "execution_count": 6,
      "outputs": [
        {
          "output_type": "execute_result",
          "data": {
            "text/plain": [
              "7"
            ]
          },
          "metadata": {},
          "execution_count": 6
        }
      ]
    },
    {
      "cell_type": "code",
      "source": [
        "#vector\n",
        "vector = torch.tensor([7,7])\n",
        "vector"
      ],
      "metadata": {
        "id": "1w-0wne6nSi7",
        "colab": {
          "base_uri": "https://localhost:8080/"
        },
        "outputId": "143d23db-6f74-474e-8954-cfc4c171a83c"
      },
      "execution_count": 7,
      "outputs": [
        {
          "output_type": "execute_result",
          "data": {
            "text/plain": [
              "tensor([7, 7])"
            ]
          },
          "metadata": {},
          "execution_count": 7
        }
      ]
    },
    {
      "cell_type": "code",
      "source": [
        "vector.ndim"
      ],
      "metadata": {
        "id": "CnYT0q-Tnifj",
        "colab": {
          "base_uri": "https://localhost:8080/"
        },
        "outputId": "41282550-75b4-4a57-924c-fe51ae62dfb6"
      },
      "execution_count": 8,
      "outputs": [
        {
          "output_type": "execute_result",
          "data": {
            "text/plain": [
              "1"
            ]
          },
          "metadata": {},
          "execution_count": 8
        }
      ]
    },
    {
      "cell_type": "code",
      "source": [
        "vector.shape"
      ],
      "metadata": {
        "id": "gTtagJ0inuqB",
        "colab": {
          "base_uri": "https://localhost:8080/"
        },
        "outputId": "18d68e7a-5468-4600-8df1-2dce96940bdc"
      },
      "execution_count": 9,
      "outputs": [
        {
          "output_type": "execute_result",
          "data": {
            "text/plain": [
              "torch.Size([2])"
            ]
          },
          "metadata": {},
          "execution_count": 9
        }
      ]
    },
    {
      "cell_type": "code",
      "source": [
        "#Matrix\n",
        "MATRIX = torch.tensor([[7,8],[9,10]])\n",
        "MATRIX"
      ],
      "metadata": {
        "id": "dB7MnWZ5nzFW",
        "colab": {
          "base_uri": "https://localhost:8080/"
        },
        "outputId": "7f15f8ed-4c83-4e4e-e95f-f057f528988f"
      },
      "execution_count": 10,
      "outputs": [
        {
          "output_type": "execute_result",
          "data": {
            "text/plain": [
              "tensor([[ 7,  8],\n",
              "        [ 9, 10]])"
            ]
          },
          "metadata": {},
          "execution_count": 10
        }
      ]
    },
    {
      "cell_type": "code",
      "source": [
        "MATRIX.ndim"
      ],
      "metadata": {
        "id": "frGWiuq-oN-Q",
        "colab": {
          "base_uri": "https://localhost:8080/"
        },
        "outputId": "881ecf9d-6582-4574-c0ea-cf0914cde25e"
      },
      "execution_count": 11,
      "outputs": [
        {
          "output_type": "execute_result",
          "data": {
            "text/plain": [
              "2"
            ]
          },
          "metadata": {},
          "execution_count": 11
        }
      ]
    },
    {
      "cell_type": "code",
      "source": [
        "MATRIX.shape"
      ],
      "metadata": {
        "id": "WRsK44VaoWZG",
        "colab": {
          "base_uri": "https://localhost:8080/"
        },
        "outputId": "b80a790c-42eb-40db-9f14-02bafc16804a"
      },
      "execution_count": 12,
      "outputs": [
        {
          "output_type": "execute_result",
          "data": {
            "text/plain": [
              "torch.Size([2, 2])"
            ]
          },
          "metadata": {},
          "execution_count": 12
        }
      ]
    },
    {
      "cell_type": "code",
      "source": [
        "MATRIX[1]"
      ],
      "metadata": {
        "id": "G_v72ZKUoeol",
        "colab": {
          "base_uri": "https://localhost:8080/"
        },
        "outputId": "1e0a5cd8-e954-4063-a615-76be7aba5c91"
      },
      "execution_count": 13,
      "outputs": [
        {
          "output_type": "execute_result",
          "data": {
            "text/plain": [
              "tensor([ 9, 10])"
            ]
          },
          "metadata": {},
          "execution_count": 13
        }
      ]
    },
    {
      "cell_type": "code",
      "source": [
        "#tensor\n",
        "TENSOR = torch.tensor([[[1,2,4],\n",
        "                        [4,5,6],\n",
        "                        [3,7,8]]])\n",
        "TENSOR"
      ],
      "metadata": {
        "id": "gW_1XlbRomjD",
        "colab": {
          "base_uri": "https://localhost:8080/"
        },
        "outputId": "16f07574-6a37-46fe-902e-6b5b4cb4373b"
      },
      "execution_count": 14,
      "outputs": [
        {
          "output_type": "execute_result",
          "data": {
            "text/plain": [
              "tensor([[[1, 2, 4],\n",
              "         [4, 5, 6],\n",
              "         [3, 7, 8]]])"
            ]
          },
          "metadata": {},
          "execution_count": 14
        }
      ]
    },
    {
      "cell_type": "code",
      "source": [
        "TENSOR.shape"
      ],
      "metadata": {
        "id": "KKlrFugApceR",
        "colab": {
          "base_uri": "https://localhost:8080/"
        },
        "outputId": "e2bca086-dbb7-4b8b-a0d5-bf1430e2c1ee"
      },
      "execution_count": 15,
      "outputs": [
        {
          "output_type": "execute_result",
          "data": {
            "text/plain": [
              "torch.Size([1, 3, 3])"
            ]
          },
          "metadata": {},
          "execution_count": 15
        }
      ]
    },
    {
      "cell_type": "code",
      "source": [
        "TENSOR[0, 1, 2]"
      ],
      "metadata": {
        "id": "TmU8ia89pqXK",
        "colab": {
          "base_uri": "https://localhost:8080/"
        },
        "outputId": "1172ee8b-6442-4dd7-953e-21f09f8218b5"
      },
      "execution_count": 16,
      "outputs": [
        {
          "output_type": "execute_result",
          "data": {
            "text/plain": [
              "tensor(6)"
            ]
          },
          "metadata": {},
          "execution_count": 16
        }
      ]
    },
    {
      "cell_type": "markdown",
      "source": [
        "###Random tensors\n"
      ],
      "metadata": {
        "id": "L0Z9o7OArZuU"
      }
    },
    {
      "cell_type": "code",
      "source": [
        "# Create a random tensor of size (3,4)\n",
        "random_tensor = torch.rand(3, 3)\n",
        "random_tensor"
      ],
      "metadata": {
        "id": "mlckNEQ4re8i",
        "colab": {
          "base_uri": "https://localhost:8080/"
        },
        "outputId": "563f8f48-0a53-4d22-d10d-de610b51676a"
      },
      "execution_count": 17,
      "outputs": [
        {
          "output_type": "execute_result",
          "data": {
            "text/plain": [
              "tensor([[0.6382, 0.6966, 0.0710],\n",
              "        [0.7596, 0.7994, 0.1316],\n",
              "        [0.2518, 0.8444, 0.5908]])"
            ]
          },
          "metadata": {},
          "execution_count": 17
        }
      ]
    },
    {
      "cell_type": "code",
      "source": [
        "random_tensor.ndim\n"
      ],
      "metadata": {
        "id": "vlsVF6ZTsljM",
        "colab": {
          "base_uri": "https://localhost:8080/"
        },
        "outputId": "eeca82ad-8117-45f7-be93-750f55adf5af"
      },
      "execution_count": 18,
      "outputs": [
        {
          "output_type": "execute_result",
          "data": {
            "text/plain": [
              "2"
            ]
          },
          "metadata": {},
          "execution_count": 18
        }
      ]
    },
    {
      "cell_type": "code",
      "source": [
        "random_image_size_tensor = torch.rand(size=(224, 224, 3))\n",
        "random_image_size_tensor.shape"
      ],
      "metadata": {
        "id": "ED4ODp7msrKK",
        "colab": {
          "base_uri": "https://localhost:8080/"
        },
        "outputId": "5550e405-47c3-48f6-a2b0-4d269a3c080f"
      },
      "execution_count": 19,
      "outputs": [
        {
          "output_type": "execute_result",
          "data": {
            "text/plain": [
              "torch.Size([224, 224, 3])"
            ]
          },
          "metadata": {},
          "execution_count": 19
        }
      ]
    },
    {
      "cell_type": "code",
      "source": [
        "torch.rand(3,3,3)"
      ],
      "metadata": {
        "id": "0QQ8LpSRuObh",
        "colab": {
          "base_uri": "https://localhost:8080/"
        },
        "outputId": "29f93a3e-d06e-4a80-8e44-044899376f56"
      },
      "execution_count": 20,
      "outputs": [
        {
          "output_type": "execute_result",
          "data": {
            "text/plain": [
              "tensor([[[0.8543, 0.7852, 0.0540],\n",
              "         [0.3268, 0.4734, 0.2801],\n",
              "         [0.0872, 0.4486, 0.6468]],\n",
              "\n",
              "        [[0.5959, 0.8734, 0.7968],\n",
              "         [0.0558, 0.9579, 0.1641],\n",
              "         [0.1169, 0.6374, 0.5832]],\n",
              "\n",
              "        [[0.9339, 0.9539, 0.5109],\n",
              "         [0.1236, 0.7657, 0.0138],\n",
              "         [0.3851, 0.5800, 0.7637]]])"
            ]
          },
          "metadata": {},
          "execution_count": 20
        }
      ]
    },
    {
      "cell_type": "code",
      "source": [
        "zero = torch.zeros(3,3)\n",
        "zero"
      ],
      "metadata": {
        "id": "kKJ43OSQu3Hh",
        "colab": {
          "base_uri": "https://localhost:8080/"
        },
        "outputId": "17231da7-b97d-4976-a8f3-83a0288c74b0"
      },
      "execution_count": 21,
      "outputs": [
        {
          "output_type": "execute_result",
          "data": {
            "text/plain": [
              "tensor([[0., 0., 0.],\n",
              "        [0., 0., 0.],\n",
              "        [0., 0., 0.]])"
            ]
          },
          "metadata": {},
          "execution_count": 21
        }
      ]
    },
    {
      "cell_type": "code",
      "source": [
        "zero*random_tensor\n"
      ],
      "metadata": {
        "id": "XUEwiCRHvHpJ",
        "colab": {
          "base_uri": "https://localhost:8080/"
        },
        "outputId": "de8387c0-c876-4ada-d8c4-9fa96e2a240b"
      },
      "execution_count": 22,
      "outputs": [
        {
          "output_type": "execute_result",
          "data": {
            "text/plain": [
              "tensor([[0., 0., 0.],\n",
              "        [0., 0., 0.],\n",
              "        [0., 0., 0.]])"
            ]
          },
          "metadata": {},
          "execution_count": 22
        }
      ]
    },
    {
      "cell_type": "code",
      "source": [
        "zero.dtype\n"
      ],
      "metadata": {
        "id": "2DknuxR7vKdz",
        "colab": {
          "base_uri": "https://localhost:8080/"
        },
        "outputId": "7728b8e5-0c58-4a22-9f5e-d425fec38464"
      },
      "execution_count": 23,
      "outputs": [
        {
          "output_type": "execute_result",
          "data": {
            "text/plain": [
              "torch.float32"
            ]
          },
          "metadata": {},
          "execution_count": 23
        }
      ]
    },
    {
      "cell_type": "markdown",
      "source": [
        "### Creating a range of tensors and tensors-like\n"
      ],
      "metadata": {
        "id": "emDatW05wDie"
      }
    },
    {
      "cell_type": "code",
      "source": [
        "one_ten = torch.arange(start = 1, end = 11, step = 1)\n",
        "one_ten"
      ],
      "metadata": {
        "id": "FUXxHpkCvZko",
        "colab": {
          "base_uri": "https://localhost:8080/"
        },
        "outputId": "7654e36d-5f56-4953-912d-d5244caa1014"
      },
      "execution_count": 24,
      "outputs": [
        {
          "output_type": "execute_result",
          "data": {
            "text/plain": [
              "tensor([ 1,  2,  3,  4,  5,  6,  7,  8,  9, 10])"
            ]
          },
          "metadata": {},
          "execution_count": 24
        }
      ]
    },
    {
      "cell_type": "code",
      "source": [
        "ten_zeros = torch.zeros_like(input = one_ten)\n",
        "ten_zeros"
      ],
      "metadata": {
        "id": "6lBQl1FOy8_x",
        "colab": {
          "base_uri": "https://localhost:8080/"
        },
        "outputId": "546f5768-6431-4446-dcd1-dba5311a9bd3"
      },
      "execution_count": 25,
      "outputs": [
        {
          "output_type": "execute_result",
          "data": {
            "text/plain": [
              "tensor([0, 0, 0, 0, 0, 0, 0, 0, 0, 0])"
            ]
          },
          "metadata": {},
          "execution_count": 25
        }
      ]
    },
    {
      "cell_type": "markdown",
      "source": [
        "### Tensor datatype"
      ],
      "metadata": {
        "id": "_2azihBO1TIP"
      }
    },
    {
      "cell_type": "code",
      "source": [
        "float_32 = torch.tensor([4.0,16.0,23.0],\n",
        "                        dtype = None,\n",
        "                        device = None,\n",
        "                        requires_grad = False)\n",
        "float_32\n"
      ],
      "metadata": {
        "id": "KsiXwJb11YYu",
        "colab": {
          "base_uri": "https://localhost:8080/"
        },
        "outputId": "84809be0-f1c9-489f-b05e-dc731bfed024"
      },
      "execution_count": 26,
      "outputs": [
        {
          "output_type": "execute_result",
          "data": {
            "text/plain": [
              "tensor([ 4., 16., 23.])"
            ]
          },
          "metadata": {},
          "execution_count": 26
        }
      ]
    },
    {
      "cell_type": "code",
      "source": [
        "float_32.dtype"
      ],
      "metadata": {
        "id": "DTJsrgTo2FId",
        "colab": {
          "base_uri": "https://localhost:8080/"
        },
        "outputId": "d4b99087-8890-41eb-f610-31698f411a12"
      },
      "execution_count": 27,
      "outputs": [
        {
          "output_type": "execute_result",
          "data": {
            "text/plain": [
              "torch.float32"
            ]
          },
          "metadata": {},
          "execution_count": 27
        }
      ]
    },
    {
      "cell_type": "code",
      "source": [
        "float_16 = float_32.type(torch.half)\n",
        "float_16"
      ],
      "metadata": {
        "id": "RmO_ufap2W2-",
        "colab": {
          "base_uri": "https://localhost:8080/"
        },
        "outputId": "6f2f96f0-ba4f-4102-d8c0-ab3dba8a2b60"
      },
      "execution_count": 28,
      "outputs": [
        {
          "output_type": "execute_result",
          "data": {
            "text/plain": [
              "tensor([ 4., 16., 23.], dtype=torch.float16)"
            ]
          },
          "metadata": {},
          "execution_count": 28
        }
      ]
    },
    {
      "cell_type": "code",
      "source": [
        "tensor_mix = float_16 * float_32\n",
        "tensor_mix.dtype"
      ],
      "metadata": {
        "id": "Mb6lXVTH3oBF",
        "colab": {
          "base_uri": "https://localhost:8080/"
        },
        "outputId": "b48529fc-b289-4237-f4ff-3ecb9dc6a4ce"
      },
      "execution_count": 29,
      "outputs": [
        {
          "output_type": "execute_result",
          "data": {
            "text/plain": [
              "torch.float32"
            ]
          },
          "metadata": {},
          "execution_count": 29
        }
      ]
    },
    {
      "cell_type": "code",
      "source": [
        "int_32 = torch.tensor([4, 56, 4], dtype = torch.int32)\n",
        "int_32"
      ],
      "metadata": {
        "id": "2ykMemCE4Iub",
        "colab": {
          "base_uri": "https://localhost:8080/"
        },
        "outputId": "4ff066bf-7dc4-4fe6-e38f-69995615a3ff"
      },
      "execution_count": 30,
      "outputs": [
        {
          "output_type": "execute_result",
          "data": {
            "text/plain": [
              "tensor([ 4, 56,  4], dtype=torch.int32)"
            ]
          },
          "metadata": {},
          "execution_count": 30
        }
      ]
    },
    {
      "cell_type": "code",
      "source": [
        "int_32*float_32"
      ],
      "metadata": {
        "id": "Pxj3sc-V4veK",
        "colab": {
          "base_uri": "https://localhost:8080/"
        },
        "outputId": "86268017-216c-40e8-b558-6813d8349458"
      },
      "execution_count": 31,
      "outputs": [
        {
          "output_type": "execute_result",
          "data": {
            "text/plain": [
              "tensor([ 16., 896.,  92.])"
            ]
          },
          "metadata": {},
          "execution_count": 31
        }
      ]
    },
    {
      "cell_type": "markdown",
      "source": [
        "### Getting information from tensors"
      ],
      "metadata": {
        "id": "KHYcOZvq5Jw_"
      }
    },
    {
      "cell_type": "code",
      "source": [
        "y = torch.rand([3,4],dtype = torch.half)\n",
        "y"
      ],
      "metadata": {
        "id": "WLh35gn75PV4",
        "colab": {
          "base_uri": "https://localhost:8080/"
        },
        "outputId": "5e7d8a5b-6e4f-4941-cd3f-acb1c0c0f8fe"
      },
      "execution_count": 32,
      "outputs": [
        {
          "output_type": "execute_result",
          "data": {
            "text/plain": [
              "tensor([[0.0420, 0.7910, 0.9160, 0.4507],\n",
              "        [0.1401, 0.3096, 0.1104, 0.3423],\n",
              "        [0.1968, 0.1548, 0.4404, 0.9219]], dtype=torch.float16)"
            ]
          },
          "metadata": {},
          "execution_count": 32
        }
      ]
    },
    {
      "cell_type": "code",
      "source": [
        "y,y.dtype,y.shape,y.device\n"
      ],
      "metadata": {
        "id": "yYrGNN3I6RcA",
        "colab": {
          "base_uri": "https://localhost:8080/"
        },
        "outputId": "85e00b61-2695-435b-9e26-a85ddb214e7a"
      },
      "execution_count": 33,
      "outputs": [
        {
          "output_type": "execute_result",
          "data": {
            "text/plain": [
              "(tensor([[0.0420, 0.7910, 0.9160, 0.4507],\n",
              "         [0.1401, 0.3096, 0.1104, 0.3423],\n",
              "         [0.1968, 0.1548, 0.4404, 0.9219]], dtype=torch.float16),\n",
              " torch.float16,\n",
              " torch.Size([3, 4]),\n",
              " device(type='cpu'))"
            ]
          },
          "metadata": {},
          "execution_count": 33
        }
      ]
    },
    {
      "cell_type": "markdown",
      "source": [
        "### Manipulating tensors"
      ],
      "metadata": {
        "id": "R7PuFsi8G25n"
      }
    },
    {
      "cell_type": "code",
      "source": [
        "add_tensor = torch.tensor([1,2,3])\n",
        "add_tensor + 10\n"
      ],
      "metadata": {
        "id": "cF52OjGdG9j3",
        "colab": {
          "base_uri": "https://localhost:8080/"
        },
        "outputId": "6111740c-cfe7-44e4-83f2-fb8b47c39b17"
      },
      "execution_count": 34,
      "outputs": [
        {
          "output_type": "execute_result",
          "data": {
            "text/plain": [
              "tensor([11, 12, 13])"
            ]
          },
          "metadata": {},
          "execution_count": 34
        }
      ]
    },
    {
      "cell_type": "code",
      "source": [
        "mul_tensor = torch.tensor([1,2,3])\n",
        "mul_tensor * 10"
      ],
      "metadata": {
        "id": "3YIEg3frHj2h",
        "colab": {
          "base_uri": "https://localhost:8080/"
        },
        "outputId": "466b6b37-5c2a-4cd7-9bc9-91f761b8e11f"
      },
      "execution_count": 35,
      "outputs": [
        {
          "output_type": "execute_result",
          "data": {
            "text/plain": [
              "tensor([10, 20, 30])"
            ]
          },
          "metadata": {},
          "execution_count": 35
        }
      ]
    },
    {
      "cell_type": "code",
      "source": [
        "sub_tensor = torch.tensor([1,2,3])\n",
        "sub_tensor - 10"
      ],
      "metadata": {
        "id": "0yhL0g-THoT6",
        "colab": {
          "base_uri": "https://localhost:8080/"
        },
        "outputId": "4e88fa2a-7d5a-4d5f-c491-f4c043fe0211"
      },
      "execution_count": 36,
      "outputs": [
        {
          "output_type": "execute_result",
          "data": {
            "text/plain": [
              "tensor([-9, -8, -7])"
            ]
          },
          "metadata": {},
          "execution_count": 36
        }
      ]
    },
    {
      "cell_type": "code",
      "source": [
        "torch.add(add_tensor,10)"
      ],
      "metadata": {
        "id": "rJ3Vu4dVIFX7",
        "colab": {
          "base_uri": "https://localhost:8080/"
        },
        "outputId": "dbb20e5a-52f4-4fce-d4d3-695ed891ae8b"
      },
      "execution_count": 37,
      "outputs": [
        {
          "output_type": "execute_result",
          "data": {
            "text/plain": [
              "tensor([11, 12, 13])"
            ]
          },
          "metadata": {},
          "execution_count": 37
        }
      ]
    },
    {
      "cell_type": "markdown",
      "source": [
        "### Matrix multiplication"
      ],
      "metadata": {
        "id": "Qgj3w_TNKhgI"
      }
    },
    {
      "cell_type": "code",
      "source": [
        "matrix_tensor = torch.tensor([[1,2,3],\n",
        "                              [4,5,6],\n",
        "                              [2,4,6]])\n",
        "mul_tensor = torch.tensor([[7,8,6],\n",
        "                           [9,10,7],\n",
        "                           [11,12,9]])\n",
        "matrix_tensor, mul_tensor"
      ],
      "metadata": {
        "id": "vCYuOozNKmPj",
        "colab": {
          "base_uri": "https://localhost:8080/"
        },
        "outputId": "de35a778-e5e1-4bb9-c36c-81386175eee8"
      },
      "execution_count": 38,
      "outputs": [
        {
          "output_type": "execute_result",
          "data": {
            "text/plain": [
              "(tensor([[1, 2, 3],\n",
              "         [4, 5, 6],\n",
              "         [2, 4, 6]]),\n",
              " tensor([[ 7,  8,  6],\n",
              "         [ 9, 10,  7],\n",
              "         [11, 12,  9]]))"
            ]
          },
          "metadata": {},
          "execution_count": 38
        }
      ]
    },
    {
      "cell_type": "code",
      "source": [
        "matrix_tensor[0,0] * mul_tensor[0,0] + matrix_tensor[0,1] * mul_tensor[1,0] + matrix_tensor[0,2] * mul_tensor[2,0]"
      ],
      "metadata": {
        "id": "FwO1L-cyLo61",
        "colab": {
          "base_uri": "https://localhost:8080/"
        },
        "outputId": "c08b35f6-4ddc-48f8-99a7-fbfa6227c86c"
      },
      "execution_count": 39,
      "outputs": [
        {
          "output_type": "execute_result",
          "data": {
            "text/plain": [
              "tensor(58)"
            ]
          },
          "metadata": {},
          "execution_count": 39
        }
      ]
    },
    {
      "cell_type": "code",
      "source": [
        "%%time\n",
        "size_tensor = matrix_tensor.size()\n",
        "print(size_tensor[1])\n",
        "value = 0\n",
        "for i in range(size_tensor[1]):\n",
        " value += matrix_tensor[0, i] * mul_tensor[i, 0]\n",
        " print(value)"
      ],
      "metadata": {
        "id": "71gRShaJSGYG",
        "colab": {
          "base_uri": "https://localhost:8080/"
        },
        "outputId": "f37f9808-e1d4-44b8-cb0d-70699ec47f1a"
      },
      "execution_count": 40,
      "outputs": [
        {
          "output_type": "stream",
          "name": "stdout",
          "text": [
            "3\n",
            "tensor(7)\n",
            "tensor(25)\n",
            "tensor(58)\n",
            "CPU times: user 3.18 ms, sys: 0 ns, total: 3.18 ms\n",
            "Wall time: 4.26 ms\n"
          ]
        }
      ]
    },
    {
      "cell_type": "code",
      "source": [
        "%%time\n",
        "torch.matmul(matrix_tensor, mul_tensor)"
      ],
      "metadata": {
        "id": "tTFPGHyUMWbT",
        "colab": {
          "base_uri": "https://localhost:8080/"
        },
        "outputId": "03e5081e-078b-427d-8903-a5612e23794f"
      },
      "execution_count": 41,
      "outputs": [
        {
          "output_type": "stream",
          "name": "stdout",
          "text": [
            "CPU times: user 489 µs, sys: 93 µs, total: 582 µs\n",
            "Wall time: 11.6 ms\n"
          ]
        },
        {
          "output_type": "execute_result",
          "data": {
            "text/plain": [
              "tensor([[ 58,  64,  47],\n",
              "        [139, 154, 113],\n",
              "        [116, 128,  94]])"
            ]
          },
          "metadata": {},
          "execution_count": 41
        }
      ]
    },
    {
      "cell_type": "code",
      "source": [
        "matrix_tensor @ mul_tensor"
      ],
      "metadata": {
        "id": "9V6qCDuBVX6h",
        "colab": {
          "base_uri": "https://localhost:8080/"
        },
        "outputId": "180b0229-06ed-466b-dab7-a79dedea03a9"
      },
      "execution_count": 42,
      "outputs": [
        {
          "output_type": "execute_result",
          "data": {
            "text/plain": [
              "tensor([[ 58,  64,  47],\n",
              "        [139, 154, 113],\n",
              "        [116, 128,  94]])"
            ]
          },
          "metadata": {},
          "execution_count": 42
        }
      ]
    },
    {
      "cell_type": "markdown",
      "source": [
        "### Shape errors"
      ],
      "metadata": {
        "id": "P5-Ksl8TTEOX"
      }
    },
    {
      "cell_type": "code",
      "source": [
        "tensor_A = torch.tensor([[1,2],\n",
        "                        [3,4],\n",
        "                        [5,6]])\n",
        "tensor_B = torch.tensor([[7,10],\n",
        "                        [8,11],\n",
        "                        [9,12]])\n"
      ],
      "metadata": {
        "id": "yTnmmn1qTQkg"
      },
      "execution_count": 43,
      "outputs": []
    },
    {
      "cell_type": "code",
      "source": [
        "tensor_B"
      ],
      "metadata": {
        "id": "mtl-s-moUz0I",
        "colab": {
          "base_uri": "https://localhost:8080/"
        },
        "outputId": "a693be98-a17e-42a2-a9ca-355d21631fef"
      },
      "execution_count": 44,
      "outputs": [
        {
          "output_type": "execute_result",
          "data": {
            "text/plain": [
              "tensor([[ 7, 10],\n",
              "        [ 8, 11],\n",
              "        [ 9, 12]])"
            ]
          },
          "metadata": {},
          "execution_count": 44
        }
      ]
    },
    {
      "cell_type": "code",
      "source": [
        "tensor_B.T"
      ],
      "metadata": {
        "id": "ulk2XmO4UO53",
        "colab": {
          "base_uri": "https://localhost:8080/"
        },
        "outputId": "eeadf949-250c-496e-cf76-ddac4ea7943e"
      },
      "execution_count": 45,
      "outputs": [
        {
          "output_type": "execute_result",
          "data": {
            "text/plain": [
              "tensor([[ 7,  8,  9],\n",
              "        [10, 11, 12]])"
            ]
          },
          "metadata": {},
          "execution_count": 45
        }
      ]
    },
    {
      "cell_type": "code",
      "source": [
        "torch.mm(tensor_A.T, tensor_B)"
      ],
      "metadata": {
        "id": "Q-X5XulnVLyH",
        "colab": {
          "base_uri": "https://localhost:8080/"
        },
        "outputId": "f0b4d678-2660-4433-d8ef-19c24da65c51"
      },
      "execution_count": 46,
      "outputs": [
        {
          "output_type": "execute_result",
          "data": {
            "text/plain": [
              "tensor([[ 76, 103],\n",
              "        [100, 136]])"
            ]
          },
          "metadata": {},
          "execution_count": 46
        }
      ]
    },
    {
      "cell_type": "markdown",
      "source": [
        "### Finding the min, max, mean, sum, etc"
      ],
      "metadata": {
        "id": "8L0SptjfXClP"
      }
    },
    {
      "cell_type": "code",
      "source": [
        "x = torch.arange(5,100,15)\n",
        "x"
      ],
      "metadata": {
        "id": "DzILUpghXLh2",
        "colab": {
          "base_uri": "https://localhost:8080/"
        },
        "outputId": "7268ea1f-bead-4237-9600-4089a87c6188"
      },
      "execution_count": 47,
      "outputs": [
        {
          "output_type": "execute_result",
          "data": {
            "text/plain": [
              "tensor([ 5, 20, 35, 50, 65, 80, 95])"
            ]
          },
          "metadata": {},
          "execution_count": 47
        }
      ]
    },
    {
      "cell_type": "code",
      "source": [
        "x.min()"
      ],
      "metadata": {
        "id": "sOeoTFhBXhfm",
        "colab": {
          "base_uri": "https://localhost:8080/"
        },
        "outputId": "62563b27-6245-4e1e-bc98-d6a799f99a8b"
      },
      "execution_count": 48,
      "outputs": [
        {
          "output_type": "execute_result",
          "data": {
            "text/plain": [
              "tensor(5)"
            ]
          },
          "metadata": {},
          "execution_count": 48
        }
      ]
    },
    {
      "cell_type": "code",
      "source": [
        "x.max()"
      ],
      "metadata": {
        "id": "ravSwIJHXnwG",
        "colab": {
          "base_uri": "https://localhost:8080/"
        },
        "outputId": "77ed1ac7-3f98-4703-dc36-5ebb0475406e"
      },
      "execution_count": 49,
      "outputs": [
        {
          "output_type": "execute_result",
          "data": {
            "text/plain": [
              "tensor(95)"
            ]
          },
          "metadata": {},
          "execution_count": 49
        }
      ]
    },
    {
      "cell_type": "code",
      "source": [
        "x.type(torch.float32).mean(), torch.mean(x.type(torch.float32))"
      ],
      "metadata": {
        "id": "zbUKujvDXpbk",
        "colab": {
          "base_uri": "https://localhost:8080/"
        },
        "outputId": "589af91c-ab9d-4067-8330-b23e9e3b0857"
      },
      "execution_count": 50,
      "outputs": [
        {
          "output_type": "execute_result",
          "data": {
            "text/plain": [
              "(tensor(50.), tensor(50.))"
            ]
          },
          "metadata": {},
          "execution_count": 50
        }
      ]
    },
    {
      "cell_type": "code",
      "source": [
        "x.sum()"
      ],
      "metadata": {
        "id": "TRQ232zpXwox",
        "colab": {
          "base_uri": "https://localhost:8080/"
        },
        "outputId": "0b92bfe6-8e75-42a9-f2d9-0bf0c3443541"
      },
      "execution_count": 51,
      "outputs": [
        {
          "output_type": "execute_result",
          "data": {
            "text/plain": [
              "tensor(350)"
            ]
          },
          "metadata": {},
          "execution_count": 51
        }
      ]
    },
    {
      "cell_type": "markdown",
      "source": [
        "### Finding positional min and max\n",
        "\n"
      ],
      "metadata": {
        "id": "vMt7uNjaZKPr"
      }
    },
    {
      "cell_type": "code",
      "source": [
        "x.argmin()"
      ],
      "metadata": {
        "id": "v7FnI2jzZGif",
        "colab": {
          "base_uri": "https://localhost:8080/"
        },
        "outputId": "ebf12ef1-baa0-4f88-aabd-77c0f99e3950"
      },
      "execution_count": 52,
      "outputs": [
        {
          "output_type": "execute_result",
          "data": {
            "text/plain": [
              "tensor(0)"
            ]
          },
          "metadata": {},
          "execution_count": 52
        }
      ]
    },
    {
      "cell_type": "code",
      "source": [
        "x.argmax()\n"
      ],
      "metadata": {
        "id": "XhtjnUutZbTi",
        "colab": {
          "base_uri": "https://localhost:8080/"
        },
        "outputId": "abe9f53b-49de-4d06-e843-122fe6504799"
      },
      "execution_count": 53,
      "outputs": [
        {
          "output_type": "execute_result",
          "data": {
            "text/plain": [
              "tensor(6)"
            ]
          },
          "metadata": {},
          "execution_count": 53
        }
      ]
    },
    {
      "cell_type": "markdown",
      "source": [
        "### Reshaping, stacking, squeezing and unsqueezing tensors"
      ],
      "metadata": {
        "id": "z5trBfDAZvcp"
      }
    },
    {
      "cell_type": "code",
      "source": [
        "import torch\n",
        "x = torch.arange(1., 10.)\n",
        "x, x.shape"
      ],
      "metadata": {
        "id": "79SWNx4CZy-X",
        "colab": {
          "base_uri": "https://localhost:8080/"
        },
        "outputId": "4f0cc7d6-a984-47d7-c47d-7f8f736f05e2"
      },
      "execution_count": 54,
      "outputs": [
        {
          "output_type": "execute_result",
          "data": {
            "text/plain": [
              "(tensor([1., 2., 3., 4., 5., 6., 7., 8., 9.]), torch.Size([9]))"
            ]
          },
          "metadata": {},
          "execution_count": 54
        }
      ]
    },
    {
      "cell_type": "code",
      "source": [
        "x_reshaped = x.reshape(1,9)\n",
        "x_reshaped, x_reshaped.shape"
      ],
      "metadata": {
        "id": "J44QUzsqhrvX",
        "colab": {
          "base_uri": "https://localhost:8080/"
        },
        "outputId": "f9b06a28-faf2-4db6-c3b4-d74d78161e02"
      },
      "execution_count": 55,
      "outputs": [
        {
          "output_type": "execute_result",
          "data": {
            "text/plain": [
              "(tensor([[1., 2., 3., 4., 5., 6., 7., 8., 9.]]), torch.Size([1, 9]))"
            ]
          },
          "metadata": {},
          "execution_count": 55
        }
      ]
    },
    {
      "cell_type": "code",
      "source": [
        "z = x.view(1,9)\n",
        "z, z.shape"
      ],
      "metadata": {
        "id": "_t5fA4JLhr5O",
        "colab": {
          "base_uri": "https://localhost:8080/"
        },
        "outputId": "caddd371-25a7-4558-8ce9-e09526cb291f"
      },
      "execution_count": 56,
      "outputs": [
        {
          "output_type": "execute_result",
          "data": {
            "text/plain": [
              "(tensor([[1., 2., 3., 4., 5., 6., 7., 8., 9.]]), torch.Size([1, 9]))"
            ]
          },
          "metadata": {},
          "execution_count": 56
        }
      ]
    },
    {
      "cell_type": "code",
      "source": [
        "z[0,0] = 5\n",
        "x"
      ],
      "metadata": {
        "id": "pH3cz4qQhr_1",
        "colab": {
          "base_uri": "https://localhost:8080/"
        },
        "outputId": "b1e37629-86ea-464c-a731-6e150e4de818"
      },
      "execution_count": 57,
      "outputs": [
        {
          "output_type": "execute_result",
          "data": {
            "text/plain": [
              "tensor([5., 2., 3., 4., 5., 6., 7., 8., 9.])"
            ]
          },
          "metadata": {},
          "execution_count": 57
        }
      ]
    },
    {
      "cell_type": "code",
      "source": [
        "x_stacked = torch.stack([x,x,x,x], dim = 0)\n",
        "x_stacked"
      ],
      "metadata": {
        "id": "W2MRY1idhsGm",
        "colab": {
          "base_uri": "https://localhost:8080/"
        },
        "outputId": "1026150c-b35f-4673-ed69-30cb6e21bcc8"
      },
      "execution_count": 58,
      "outputs": [
        {
          "output_type": "execute_result",
          "data": {
            "text/plain": [
              "tensor([[5., 2., 3., 4., 5., 6., 7., 8., 9.],\n",
              "        [5., 2., 3., 4., 5., 6., 7., 8., 9.],\n",
              "        [5., 2., 3., 4., 5., 6., 7., 8., 9.],\n",
              "        [5., 2., 3., 4., 5., 6., 7., 8., 9.]])"
            ]
          },
          "metadata": {},
          "execution_count": 58
        }
      ]
    },
    {
      "cell_type": "code",
      "source": [
        "x_unsqueezed = x.unsqueeze(dim = 0)\n",
        "x_unsqueezed"
      ],
      "metadata": {
        "id": "dbWrmDCahsyv",
        "colab": {
          "base_uri": "https://localhost:8080/"
        },
        "outputId": "84b8b85e-02a0-4cb9-9c03-21816177717f"
      },
      "execution_count": 59,
      "outputs": [
        {
          "output_type": "execute_result",
          "data": {
            "text/plain": [
              "tensor([[5., 2., 3., 4., 5., 6., 7., 8., 9.]])"
            ]
          },
          "metadata": {},
          "execution_count": 59
        }
      ]
    },
    {
      "cell_type": "code",
      "source": [
        "x_squeezed = x.squeeze()\n",
        "x_squeezed"
      ],
      "metadata": {
        "id": "ncQmZuXxhsOP",
        "colab": {
          "base_uri": "https://localhost:8080/"
        },
        "outputId": "d12a0583-bcb1-472e-fa7f-7872ef679051"
      },
      "execution_count": 60,
      "outputs": [
        {
          "output_type": "execute_result",
          "data": {
            "text/plain": [
              "tensor([5., 2., 3., 4., 5., 6., 7., 8., 9.])"
            ]
          },
          "metadata": {},
          "execution_count": 60
        }
      ]
    },
    {
      "cell_type": "code",
      "source": [
        "y = torch.zeros(2,1,2,1)\n",
        "y.shape"
      ],
      "metadata": {
        "id": "nb5LXY8rhs1u",
        "colab": {
          "base_uri": "https://localhost:8080/"
        },
        "outputId": "43a96cbf-18b1-414c-e531-2ac4b24c0b5d"
      },
      "execution_count": 61,
      "outputs": [
        {
          "output_type": "execute_result",
          "data": {
            "text/plain": [
              "torch.Size([2, 1, 2, 1])"
            ]
          },
          "metadata": {},
          "execution_count": 61
        }
      ]
    },
    {
      "cell_type": "code",
      "source": [
        "y.squeeze().shape"
      ],
      "metadata": {
        "id": "7WuSIc5Lhs4n",
        "colab": {
          "base_uri": "https://localhost:8080/"
        },
        "outputId": "420024df-1eea-493f-aa1a-a7c9047c1487"
      },
      "execution_count": 62,
      "outputs": [
        {
          "output_type": "execute_result",
          "data": {
            "text/plain": [
              "torch.Size([2, 2])"
            ]
          },
          "metadata": {},
          "execution_count": 62
        }
      ]
    },
    {
      "cell_type": "code",
      "source": [
        "y.unsqueeze(dim = 1).unsqueeze(dim = 2).shape"
      ],
      "metadata": {
        "id": "7wIVb8kvhtUn",
        "colab": {
          "base_uri": "https://localhost:8080/"
        },
        "outputId": "71d42529-a12a-4ac8-daa5-ecfc9a448298"
      },
      "execution_count": 63,
      "outputs": [
        {
          "output_type": "execute_result",
          "data": {
            "text/plain": [
              "torch.Size([2, 1, 1, 1, 2, 1])"
            ]
          },
          "metadata": {},
          "execution_count": 63
        }
      ]
    },
    {
      "cell_type": "code",
      "source": [
        "torch.permute(y, (2,0,1,3)).shape"
      ],
      "metadata": {
        "id": "KxYRxWLZhtXQ",
        "colab": {
          "base_uri": "https://localhost:8080/"
        },
        "outputId": "45bf4baa-b98c-4d83-c234-e9a82ee90d39"
      },
      "execution_count": 64,
      "outputs": [
        {
          "output_type": "execute_result",
          "data": {
            "text/plain": [
              "torch.Size([2, 2, 1, 1])"
            ]
          },
          "metadata": {},
          "execution_count": 64
        }
      ]
    },
    {
      "cell_type": "code",
      "source": [
        "x_original = torch.rand(size = (224,224,3))\n",
        "x_original.shape"
      ],
      "metadata": {
        "id": "iiap-PKXhtav",
        "colab": {
          "base_uri": "https://localhost:8080/"
        },
        "outputId": "c29a62cc-bf6e-474f-9427-2576c24b4f92"
      },
      "execution_count": 65,
      "outputs": [
        {
          "output_type": "execute_result",
          "data": {
            "text/plain": [
              "torch.Size([224, 224, 3])"
            ]
          },
          "metadata": {},
          "execution_count": 65
        }
      ]
    },
    {
      "cell_type": "code",
      "source": [
        "x_permuted = x_original.permute(2,0,1)\n",
        "x_permuted.shape"
      ],
      "metadata": {
        "id": "YketQ7I0mKWt",
        "colab": {
          "base_uri": "https://localhost:8080/"
        },
        "outputId": "50d3e6f3-1033-4889-d5c7-e2e2e4257196"
      },
      "execution_count": 66,
      "outputs": [
        {
          "output_type": "execute_result",
          "data": {
            "text/plain": [
              "torch.Size([3, 224, 224])"
            ]
          },
          "metadata": {},
          "execution_count": 66
        }
      ]
    },
    {
      "cell_type": "code",
      "source": [
        "x_original[0,0,0] = 728218\n",
        "x_original[0,0,0], x_permuted[0,0,0]"
      ],
      "metadata": {
        "id": "2aTd0BW6mPWj",
        "colab": {
          "base_uri": "https://localhost:8080/"
        },
        "outputId": "2195393d-b692-4b44-c270-6fca2fdcc97b"
      },
      "execution_count": 67,
      "outputs": [
        {
          "output_type": "execute_result",
          "data": {
            "text/plain": [
              "(tensor(728218.), tensor(728218.))"
            ]
          },
          "metadata": {},
          "execution_count": 67
        }
      ]
    },
    {
      "cell_type": "markdown",
      "source": [
        "### Selecting data (indexing)"
      ],
      "metadata": {
        "id": "_s-vhZSbnGio"
      }
    },
    {
      "cell_type": "code",
      "source": [
        "import torch\n",
        "x = torch.arange(1,10).reshape(1,3,3)\n",
        "x, x.shape"
      ],
      "metadata": {
        "id": "F-tqEIyknTmP",
        "colab": {
          "base_uri": "https://localhost:8080/"
        },
        "outputId": "fc251684-4f4f-4789-e55c-a7c4ad441596"
      },
      "execution_count": 68,
      "outputs": [
        {
          "output_type": "execute_result",
          "data": {
            "text/plain": [
              "(tensor([[[1, 2, 3],\n",
              "          [4, 5, 6],\n",
              "          [7, 8, 9]]]),\n",
              " torch.Size([1, 3, 3]))"
            ]
          },
          "metadata": {},
          "execution_count": 68
        }
      ]
    },
    {
      "cell_type": "code",
      "source": [
        "x[0]"
      ],
      "metadata": {
        "id": "XnBoGgcVnTrE",
        "colab": {
          "base_uri": "https://localhost:8080/"
        },
        "outputId": "1e00525c-8430-434f-f364-9180c7779d20"
      },
      "execution_count": 69,
      "outputs": [
        {
          "output_type": "execute_result",
          "data": {
            "text/plain": [
              "tensor([[1, 2, 3],\n",
              "        [4, 5, 6],\n",
              "        [7, 8, 9]])"
            ]
          },
          "metadata": {},
          "execution_count": 69
        }
      ]
    },
    {
      "cell_type": "code",
      "source": [
        "x[0, 0]"
      ],
      "metadata": {
        "id": "Cra1TyY7nTs4",
        "colab": {
          "base_uri": "https://localhost:8080/"
        },
        "outputId": "741535fb-294b-4f2b-f500-2b7ce3a9ca69"
      },
      "execution_count": 70,
      "outputs": [
        {
          "output_type": "execute_result",
          "data": {
            "text/plain": [
              "tensor([1, 2, 3])"
            ]
          },
          "metadata": {},
          "execution_count": 70
        }
      ]
    },
    {
      "cell_type": "code",
      "source": [
        "x[0, 2, 2]"
      ],
      "metadata": {
        "id": "pASiQZurnTwT",
        "colab": {
          "base_uri": "https://localhost:8080/"
        },
        "outputId": "c2b0d405-7ec8-4817-e928-a08f41dea9a0"
      },
      "execution_count": 71,
      "outputs": [
        {
          "output_type": "execute_result",
          "data": {
            "text/plain": [
              "tensor(9)"
            ]
          },
          "metadata": {},
          "execution_count": 71
        }
      ]
    },
    {
      "cell_type": "code",
      "source": [
        "x[:, 0]"
      ],
      "metadata": {
        "id": "jh3rbRYmnT22",
        "colab": {
          "base_uri": "https://localhost:8080/"
        },
        "outputId": "9e9ace2e-d5cb-477a-e908-a81104ff2f6d"
      },
      "execution_count": 72,
      "outputs": [
        {
          "output_type": "execute_result",
          "data": {
            "text/plain": [
              "tensor([[1, 2, 3]])"
            ]
          },
          "metadata": {},
          "execution_count": 72
        }
      ]
    },
    {
      "cell_type": "code",
      "source": [
        "x[:,0]"
      ],
      "metadata": {
        "id": "xFe1-7WHnT6K",
        "colab": {
          "base_uri": "https://localhost:8080/"
        },
        "outputId": "45ddacd0-1461-43fa-d281-2c2c2770ec9c"
      },
      "execution_count": 73,
      "outputs": [
        {
          "output_type": "execute_result",
          "data": {
            "text/plain": [
              "tensor([[1, 2, 3]])"
            ]
          },
          "metadata": {},
          "execution_count": 73
        }
      ]
    },
    {
      "cell_type": "markdown",
      "source": [
        "### Pytorch tensors and numpy"
      ],
      "metadata": {
        "id": "ywmTrElvpawf"
      }
    },
    {
      "cell_type": "code",
      "source": [
        "import torch\n",
        "import numpy as np\n",
        "array = np.arange(1.0, 8.0)\n",
        "tensor = torch.from_numpy(array)\n",
        "array, tensor"
      ],
      "metadata": {
        "id": "5ANWWTu7ph7A",
        "colab": {
          "base_uri": "https://localhost:8080/"
        },
        "outputId": "31301868-698d-4f71-b776-bb96d357d607"
      },
      "execution_count": 75,
      "outputs": [
        {
          "output_type": "execute_result",
          "data": {
            "text/plain": [
              "(array([1., 2., 3., 4., 5., 6., 7.]),\n",
              " tensor([1., 2., 3., 4., 5., 6., 7.], dtype=torch.float64))"
            ]
          },
          "metadata": {},
          "execution_count": 75
        }
      ]
    },
    {
      "cell_type": "code",
      "source": [
        "tensor = torch.ones(7)\n",
        "numpy_tensor = tensor.numpy()\n",
        "tensor, numpy_tensor"
      ],
      "metadata": {
        "id": "iNrNQXpQph9z",
        "colab": {
          "base_uri": "https://localhost:8080/"
        },
        "outputId": "cd86b988-8f86-4a45-80ae-76875fe72f8a"
      },
      "execution_count": 76,
      "outputs": [
        {
          "output_type": "execute_result",
          "data": {
            "text/plain": [
              "(tensor([1., 1., 1., 1., 1., 1., 1.]),\n",
              " array([1., 1., 1., 1., 1., 1., 1.], dtype=float32))"
            ]
          },
          "metadata": {},
          "execution_count": 76
        }
      ]
    },
    {
      "cell_type": "code",
      "source": [
        "tensor = tensor + 1\n",
        "tensor, numpy_tensor"
      ],
      "metadata": {
        "id": "ywOIA2CNpiAx",
        "colab": {
          "base_uri": "https://localhost:8080/"
        },
        "outputId": "51412c6c-c75e-40db-e96c-9603c0e3655f"
      },
      "execution_count": 77,
      "outputs": [
        {
          "output_type": "execute_result",
          "data": {
            "text/plain": [
              "(tensor([2., 2., 2., 2., 2., 2., 2.]),\n",
              " array([1., 1., 1., 1., 1., 1., 1.], dtype=float32))"
            ]
          },
          "metadata": {},
          "execution_count": 77
        }
      ]
    },
    {
      "cell_type": "markdown",
      "source": [
        "### Reproducibility"
      ],
      "metadata": {
        "id": "-mRc2p_oFZzY"
      }
    },
    {
      "cell_type": "code",
      "source": [
        "torch.rand(3,3)"
      ],
      "metadata": {
        "id": "obABDFVEpiDq",
        "colab": {
          "base_uri": "https://localhost:8080/"
        },
        "outputId": "d8eeb1b8-926c-44cb-f981-d89f1ee80c07"
      },
      "execution_count": 81,
      "outputs": [
        {
          "output_type": "execute_result",
          "data": {
            "text/plain": [
              "tensor([[0.3101, 0.3731, 0.2337],\n",
              "        [0.7129, 0.1639, 0.9486],\n",
              "        [0.6721, 0.4267, 0.9857]])"
            ]
          },
          "metadata": {},
          "execution_count": 81
        }
      ]
    },
    {
      "cell_type": "code",
      "source": [
        "random_A = torch.rand(3,4)\n",
        "random_B = torch.rand(3,4)\n",
        "print(random_A)\n",
        "print(random_B)\n",
        "print(random_A == random_B)"
      ],
      "metadata": {
        "id": "YKK7-yAZpiGy",
        "colab": {
          "base_uri": "https://localhost:8080/"
        },
        "outputId": "53f78373-680e-4ed5-9c7d-9554085ea703"
      },
      "execution_count": 99,
      "outputs": [
        {
          "output_type": "stream",
          "name": "stdout",
          "text": [
            "tensor([[0.0329, 0.5702, 0.4687, 0.0907],\n",
            "        [0.6216, 0.9962, 0.5078, 0.9521],\n",
            "        [0.8056, 0.6341, 0.1258, 0.0245]])\n",
            "tensor([[0.6833, 0.4934, 0.2576, 0.2399],\n",
            "        [0.9787, 0.4141, 0.3780, 0.6605],\n",
            "        [0.4337, 0.9245, 0.6607, 0.9719]])\n",
            "tensor([[False, False, False, False],\n",
            "        [False, False, False, False],\n",
            "        [False, False, False, False]])\n"
          ]
        }
      ]
    },
    {
      "cell_type": "code",
      "source": [
        "RANDOM_SEED = 56\n",
        "torch.manual_seed(RANDOM_SEED)\n",
        "random_C = torch.rand(3,4)\n",
        "torch.manual_seed(RANDOM_SEED)\n",
        "random_D = torch.rand(3,4)\n",
        "print(random_C)\n",
        "print(random_D)\n",
        "print(random_C == random_D)"
      ],
      "metadata": {
        "id": "XTtRLXgSpiJ5",
        "colab": {
          "base_uri": "https://localhost:8080/"
        },
        "outputId": "c3c157af-eb31-4dde-c68b-7bcf2cc0fc8d"
      },
      "execution_count": 105,
      "outputs": [
        {
          "output_type": "stream",
          "name": "stdout",
          "text": [
            "tensor([[0.9531, 0.5607, 0.3535, 0.9455],\n",
            "        [0.4676, 0.7281, 0.2759, 0.4734],\n",
            "        [0.7383, 0.5281, 0.2217, 0.7745]])\n",
            "tensor([[0.9531, 0.5607, 0.3535, 0.9455],\n",
            "        [0.4676, 0.7281, 0.2759, 0.4734],\n",
            "        [0.7383, 0.5281, 0.2217, 0.7745]])\n",
            "tensor([[True, True, True, True],\n",
            "        [True, True, True, True],\n",
            "        [True, True, True, True]])\n"
          ]
        }
      ]
    },
    {
      "cell_type": "markdown",
      "source": [
        "### Accessing a GPU"
      ],
      "metadata": {
        "id": "XGWDIKtjN0Ca"
      }
    },
    {
      "cell_type": "code",
      "source": [
        "!nvidia-smi"
      ],
      "metadata": {
        "id": "Y5ciiMpopiM0",
        "colab": {
          "base_uri": "https://localhost:8080/"
        },
        "outputId": "8426d5b3-8ef5-4061-bfef-0e6f1b368f45"
      },
      "execution_count": 106,
      "outputs": [
        {
          "output_type": "stream",
          "name": "stdout",
          "text": [
            "Wed Sep 25 12:40:57 2024       \n",
            "+---------------------------------------------------------------------------------------+\n",
            "| NVIDIA-SMI 535.104.05             Driver Version: 535.104.05   CUDA Version: 12.2     |\n",
            "|-----------------------------------------+----------------------+----------------------+\n",
            "| GPU  Name                 Persistence-M | Bus-Id        Disp.A | Volatile Uncorr. ECC |\n",
            "| Fan  Temp   Perf          Pwr:Usage/Cap |         Memory-Usage | GPU-Util  Compute M. |\n",
            "|                                         |                      |               MIG M. |\n",
            "|=========================================+======================+======================|\n",
            "|   0  Tesla T4                       Off | 00000000:00:04.0 Off |                    0 |\n",
            "| N/A   39C    P8               9W /  70W |      0MiB / 15360MiB |      0%      Default |\n",
            "|                                         |                      |                  N/A |\n",
            "+-----------------------------------------+----------------------+----------------------+\n",
            "                                                                                         \n",
            "+---------------------------------------------------------------------------------------+\n",
            "| Processes:                                                                            |\n",
            "|  GPU   GI   CI        PID   Type   Process name                            GPU Memory |\n",
            "|        ID   ID                                                             Usage      |\n",
            "|=======================================================================================|\n",
            "|  No running processes found                                                           |\n",
            "+---------------------------------------------------------------------------------------+\n"
          ]
        }
      ]
    },
    {
      "cell_type": "code",
      "source": [
        "torch.cuda.is_available()"
      ],
      "metadata": {
        "id": "mgrvX0E5piQA",
        "colab": {
          "base_uri": "https://localhost:8080/"
        },
        "outputId": "8adbe5ca-1bd9-40c1-be1d-3dfd77e12ff9"
      },
      "execution_count": 107,
      "outputs": [
        {
          "output_type": "execute_result",
          "data": {
            "text/plain": [
              "True"
            ]
          },
          "metadata": {},
          "execution_count": 107
        }
      ]
    },
    {
      "cell_type": "code",
      "source": [
        "device = \"cuda\" if torch.cuda.is_available() else \"cpu\"\n",
        "device"
      ],
      "metadata": {
        "id": "HkQwrUf_nT9R",
        "colab": {
          "base_uri": "https://localhost:8080/",
          "height": 35
        },
        "outputId": "4d1d2bf9-99ed-411e-c211-3fc3ce6829a3"
      },
      "execution_count": 108,
      "outputs": [
        {
          "output_type": "execute_result",
          "data": {
            "text/plain": [
              "'cuda'"
            ],
            "application/vnd.google.colaboratory.intrinsic+json": {
              "type": "string"
            }
          },
          "metadata": {},
          "execution_count": 108
        }
      ]
    },
    {
      "cell_type": "code",
      "source": [
        "torch.cuda.device_count()\n"
      ],
      "metadata": {
        "id": "Bj3e8fvDnUAg",
        "colab": {
          "base_uri": "https://localhost:8080/"
        },
        "outputId": "4bdc0ea8-3bd2-47fb-8797-2248003a37fc"
      },
      "execution_count": 109,
      "outputs": [
        {
          "output_type": "execute_result",
          "data": {
            "text/plain": [
              "1"
            ]
          },
          "metadata": {},
          "execution_count": 109
        }
      ]
    },
    {
      "cell_type": "code",
      "source": [
        "tensor = torch.tensor([1,2,3])\n",
        "print(tensor, tensor.device)"
      ],
      "metadata": {
        "id": "nCaAGGM6nUD5",
        "colab": {
          "base_uri": "https://localhost:8080/"
        },
        "outputId": "f28073b0-bd97-4ebd-d82b-1fe50cca8c33"
      },
      "execution_count": 110,
      "outputs": [
        {
          "output_type": "stream",
          "name": "stdout",
          "text": [
            "tensor([1, 2, 3]) cpu\n"
          ]
        }
      ]
    },
    {
      "cell_type": "code",
      "source": [
        "tensor_gpu = tensor.to(device)\n",
        "tensor_gpu"
      ],
      "metadata": {
        "id": "PJdL_35TnUHR",
        "colab": {
          "base_uri": "https://localhost:8080/"
        },
        "outputId": "725b26fe-8728-4428-89a5-4a0a82506a91"
      },
      "execution_count": 112,
      "outputs": [
        {
          "output_type": "execute_result",
          "data": {
            "text/plain": [
              "tensor([1, 2, 3], device='cuda:0')"
            ]
          },
          "metadata": {},
          "execution_count": 112
        }
      ]
    },
    {
      "cell_type": "code",
      "source": [
        "tensor_cpu = tensor_gpu.cpu().numpy()\n",
        "tensor_cpu"
      ],
      "metadata": {
        "id": "2jJu9VHpnUK2",
        "colab": {
          "base_uri": "https://localhost:8080/"
        },
        "outputId": "adbbc80b-23db-45e4-a7d9-efbe41fba6c9"
      },
      "execution_count": 118,
      "outputs": [
        {
          "output_type": "execute_result",
          "data": {
            "text/plain": [
              "array([1, 2, 3])"
            ]
          },
          "metadata": {},
          "execution_count": 118
        }
      ]
    },
    {
      "cell_type": "code",
      "source": [
        "\n"
      ],
      "metadata": {
        "id": "-Zl8BvQTnANi"
      },
      "execution_count": 74,
      "outputs": []
    }
  ]
}