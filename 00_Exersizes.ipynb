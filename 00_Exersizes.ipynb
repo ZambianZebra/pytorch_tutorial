{
  "nbformat": 4,
  "nbformat_minor": 0,
  "metadata": {
    "colab": {
      "provenance": [],
      "authorship_tag": "ABX9TyPPj3lQi9eukPyXMP9SnQJ5",
      "include_colab_link": true
    },
    "kernelspec": {
      "name": "python3",
      "display_name": "Python 3"
    },
    "language_info": {
      "name": "python"
    }
  },
  "cells": [
    {
      "cell_type": "markdown",
      "metadata": {
        "id": "view-in-github",
        "colab_type": "text"
      },
      "source": [
        "<a href=\"https://colab.research.google.com/github/ZambianZebra/pytorch_tutorial/blob/main/00_Exersizes.ipynb\" target=\"_parent\"><img src=\"https://colab.research.google.com/assets/colab-badge.svg\" alt=\"Open In Colab\"/></a>"
      ]
    },
    {
      "cell_type": "code",
      "execution_count": 3,
      "metadata": {
        "colab": {
          "base_uri": "https://localhost:8080/"
        },
        "id": "uL1Ez2MS0r1C",
        "outputId": "c04642a4-9a72-4322-dc65-170a2aeb6b60"
      },
      "outputs": [
        {
          "output_type": "execute_result",
          "data": {
            "text/plain": [
              "tensor([[0.3090, 0.1167, 0.5977, 0.2709, 0.3645, 0.0077, 0.5679],\n",
              "        [0.6281, 0.5041, 0.7677, 0.7699, 0.2214, 0.7342, 0.3863],\n",
              "        [0.9043, 0.0257, 0.1643, 0.3200, 0.1895, 0.1027, 0.8652],\n",
              "        [0.7246, 0.7637, 0.2235, 0.3627, 0.1674, 0.6843, 0.3488],\n",
              "        [0.5424, 0.4179, 0.2472, 0.0554, 0.5914, 0.4381, 0.5177],\n",
              "        [0.6838, 0.8378, 0.5102, 0.4206, 0.9357, 0.9009, 0.7832],\n",
              "        [0.2653, 0.0187, 0.8828, 0.5733, 0.4959, 0.4474, 0.3060]])"
            ]
          },
          "metadata": {},
          "execution_count": 3
        }
      ],
      "source": [
        "import torch\n",
        "random = torch.rand(7,7)\n",
        "random"
      ]
    },
    {
      "cell_type": "code",
      "source": [],
      "metadata": {
        "id": "kx9QLeEz09Qm"
      },
      "execution_count": null,
      "outputs": []
    }
  ]
}